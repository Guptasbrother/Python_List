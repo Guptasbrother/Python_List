{
 "cells": [
  {
   "cell_type": "markdown",
   "id": "a9596d3e-485b-4c6d-9ce8-ed75059357c4",
   "metadata": {},
   "source": [
    "### (Append Method) add new parameter in array list"
   ]
  },
  {
   "cell_type": "code",
   "execution_count": 2,
   "id": "e42f2a16-4ead-4991-9d37-cf05c7e979fe",
   "metadata": {},
   "outputs": [
    {
     "name": "stdout",
     "output_type": "stream",
     "text": [
      "['Potato', 'Onion', 'Cabbage', 'Chilli', 'Capsicum']\n"
     ]
    }
   ],
   "source": [
    "veg=[\"Potato\", \"Onion\", \"Cabbage\", \"Chilli\"]\n",
    "veg.append(\"Capsicum\")\n",
    "print(veg)"
   ]
  },
  {
   "cell_type": "code",
   "execution_count": null,
   "id": "e7f816ca-fa0c-4352-a3d6-ab40a0fbe79c",
   "metadata": {},
   "outputs": [],
   "source": []
  },
  {
   "cell_type": "markdown",
   "id": "0d3a0715-68b3-469b-9201-05dadfede74f",
   "metadata": {},
   "source": [
    "### (Clear Method) remove the parameter of array list"
   ]
  },
  {
   "cell_type": "code",
   "execution_count": 3,
   "id": "a7ad68c9-3c32-431b-a93a-eb75370df7d5",
   "metadata": {},
   "outputs": [
    {
     "name": "stdout",
     "output_type": "stream",
     "text": [
      "[]\n"
     ]
    }
   ],
   "source": [
    "l1 = [1,2,3,4,5,6,7,8,9,10]\n",
    "l1.clear()\n",
    "print(l1)"
   ]
  },
  {
   "cell_type": "code",
   "execution_count": null,
   "id": "fd6a2928-e3e1-4d67-aaec-39a3465251c7",
   "metadata": {},
   "outputs": [],
   "source": []
  },
  {
   "cell_type": "markdown",
   "id": "b7ab510f-3322-4c2f-9886-b3c3c2931022",
   "metadata": {},
   "source": [
    "### (Count Method) it will show how many times similiar value or parameter is their"
   ]
  },
  {
   "cell_type": "code",
   "execution_count": 4,
   "id": "1aafb921-f5a5-417c-9602-f23dfbb14208",
   "metadata": {},
   "outputs": [
    {
     "name": "stdout",
     "output_type": "stream",
     "text": [
      "a = 3\n"
     ]
    }
   ],
   "source": [
    "alpha = [\"a\", \"b\", \"c\", \"a\",\"d\",\"e\", \"a\"]\n",
    "value = alpha.count(\"a\")\n",
    "print(f'a = {value}')"
   ]
  },
  {
   "cell_type": "code",
   "execution_count": null,
   "id": "40386b3a-e163-4c99-991e-cc799c3b257e",
   "metadata": {},
   "outputs": [],
   "source": []
  },
  {
   "cell_type": "markdown",
   "id": "7d4c57ef-3b62-4025-9374-2c081acd16bb",
   "metadata": {},
   "source": [
    "### (Extend Method) it will add the 2nd array list value at the end of 1st array list value"
   ]
  },
  {
   "cell_type": "code",
   "execution_count": 5,
   "id": "e887a6be-cedc-454b-adb6-c207cc086a6e",
   "metadata": {},
   "outputs": [
    {
     "name": "stdout",
     "output_type": "stream",
     "text": [
      "['samsung', 'xiaomi', 'apple', 'galaxy', 'notes12', 'iphone']\n"
     ]
    }
   ],
   "source": [
    "brands = [\"samsung\", \"xiaomi\", \"apple\"]\n",
    "phones = [\"galaxy\",\"notes12\", \"iphone\"]\n",
    "brands.extend(phones)\n",
    "print (brands)"
   ]
  },
  {
   "cell_type": "code",
   "execution_count": null,
   "id": "def68e86-b7ea-42dd-9d26-1d3342118131",
   "metadata": {},
   "outputs": [],
   "source": []
  },
  {
   "cell_type": "markdown",
   "id": "e8068e1c-90fe-4ad9-bdf6-f39663feb141",
   "metadata": {},
   "source": [
    "### (Index Method) it will return the index value"
   ]
  },
  {
   "cell_type": "code",
   "execution_count": 6,
   "id": "47c81de7-cf83-4040-9064-21203f6fc362",
   "metadata": {},
   "outputs": [
    {
     "name": "stdout",
     "output_type": "stream",
     "text": [
      "vegetables = 1\n"
     ]
    }
   ],
   "source": [
    "dish=[\"paneer\",\"vegetables\",\"rice\"]\n",
    "food = dish.index(\"vegetables\")\n",
    "print(f'vegetables = {food}')"
   ]
  },
  {
   "cell_type": "code",
   "execution_count": null,
   "id": "3e5392ec-9060-481f-85f2-e5a749fb8bf3",
   "metadata": {},
   "outputs": [],
   "source": []
  },
  {
   "cell_type": "markdown",
   "id": "0a625df8-3893-4d07-a9f5-2bd590df63a2",
   "metadata": {},
   "source": [
    "### (Insert Method) to add new parameter at specific position by using index value"
   ]
  },
  {
   "cell_type": "code",
   "execution_count": 7,
   "id": "5e395b9f-8284-4a35-b879-4065940ad23e",
   "metadata": {},
   "outputs": [
    {
     "name": "stdout",
     "output_type": "stream",
     "text": [
      "fruits['apple', 'greaps', 'mango', 'cherry', 'orange', 'pineapple']\n"
     ]
    }
   ],
   "source": [
    "fruits = [\"apple\", \"greaps\", \"mango\", \"cherry\", \"pineapple\"]\n",
    "fruits.insert(4,\"orange\")\n",
    "print(f'fruits{fruits}')"
   ]
  },
  {
   "cell_type": "code",
   "execution_count": null,
   "id": "ade50ff0-f233-473e-971e-cd315641df95",
   "metadata": {},
   "outputs": [],
   "source": []
  },
  {
   "cell_type": "code",
   "execution_count": 8,
   "id": "f5141a36-4888-4589-8376-34a35c099d97",
   "metadata": {},
   "outputs": [
    {
     "name": "stdout",
     "output_type": "stream",
     "text": [
      "number [1, 2, 3, 50, 4, 5, 6, 7]\n"
     ]
    }
   ],
   "source": [
    "number = [1,2,3,4,5,6,7]\n",
    "number.insert(3,50)\n",
    "print (f'number {number}')"
   ]
  },
  {
   "cell_type": "code",
   "execution_count": null,
   "id": "cea91005-9871-4513-ac13-a673d69ad5ed",
   "metadata": {},
   "outputs": [],
   "source": []
  },
  {
   "cell_type": "markdown",
   "id": "259654f4-91f8-42a7-a398-8fe1250e742b",
   "metadata": {},
   "source": [
    "### (Pop Method) it will remove the parameter from index value refrence"
   ]
  },
  {
   "cell_type": "code",
   "execution_count": 9,
   "id": "9c1fae0c-ab1f-4406-8f7e-766524e76908",
   "metadata": {},
   "outputs": [
    {
     "name": "stdout",
     "output_type": "stream",
     "text": [
      "vegetables=['potato', 'chilly', 'onion', 'capsicum', 'cabbage']\n"
     ]
    }
   ],
   "source": [
    "vegetables= [\"potato\", \"chilly\", \"coriendor\", \"onion\", \"capsicum\", \"cabbage\"]\n",
    "vegetables.pop(2)\n",
    "print(f'vegetables={vegetables}')"
   ]
  },
  {
   "cell_type": "code",
   "execution_count": null,
   "id": "5bb61c9a-b76f-45e6-8c86-19b568323c58",
   "metadata": {},
   "outputs": [],
   "source": []
  },
  {
   "cell_type": "code",
   "execution_count": 10,
   "id": "97631884-5362-4c1b-8c4b-739c59ba055f",
   "metadata": {},
   "outputs": [
    {
     "name": "stdout",
     "output_type": "stream",
     "text": [
      "number [1, 2, 3, 4, 6, 7, 8, 9, 10]\n"
     ]
    }
   ],
   "source": [
    "number = [1,2,3,4,5,6,7,8,9,10]\n",
    "number.pop(4)\n",
    "print (f'number {number}')"
   ]
  },
  {
   "cell_type": "code",
   "execution_count": null,
   "id": "c5bd2d54-8122-43b0-ae63-0f7182bff5f2",
   "metadata": {},
   "outputs": [],
   "source": []
  },
  {
   "cell_type": "markdown",
   "id": "eafde62e-348e-4b58-93b9-fe7f0d16e1f8",
   "metadata": {},
   "source": [
    "### (Remove Method) it will remove the parameter directly"
   ]
  },
  {
   "cell_type": "code",
   "execution_count": 11,
   "id": "3fae0f18-a267-4658-bfd2-6f19c80d526c",
   "metadata": {},
   "outputs": [
    {
     "name": "stdout",
     "output_type": "stream",
     "text": [
      "sim_card=['jio', 'airtel', 'idea', 'vodafone', 'aircel', 'bsnl']\n"
     ]
    }
   ],
   "source": [
    "sim_card = [\"jio\", \"airtel\", \"idea\", \"vodafone\", \"docomo\", \"aircel\", \"bsnl\"]\n",
    "sim_card.remove(\"docomo\")\n",
    "print (f'sim_card={sim_card}')"
   ]
  },
  {
   "cell_type": "code",
   "execution_count": null,
   "id": "b390f723-6b13-429b-be87-ae06778e11ab",
   "metadata": {},
   "outputs": [],
   "source": []
  },
  {
   "cell_type": "markdown",
   "id": "e0870716-f524-46b3-9ad1-b0c489535c6d",
   "metadata": {},
   "source": [
    "### (Reverse Method) the list will show in reverse form"
   ]
  },
  {
   "cell_type": "code",
   "execution_count": 12,
   "id": "c9878ff3-a139-4278-ac18-d36a6e3d5d69",
   "metadata": {},
   "outputs": [
    {
     "name": "stdout",
     "output_type": "stream",
     "text": [
      "mark = ['mark5', 'mark4', 'mark3', 'mark2', 'mark1']\n"
     ]
    }
   ],
   "source": [
    "mark = [\"mark1\", \"mark2\", \"mark3\", \"mark4\", \"mark5\"]\n",
    "mark.reverse()\n",
    "print(f'mark = {mark}')"
   ]
  },
  {
   "cell_type": "code",
   "execution_count": 13,
   "id": "ee8589d0-cb14-46be-9474-e33fd51b93f2",
   "metadata": {},
   "outputs": [
    {
     "name": "stdout",
     "output_type": "stream",
     "text": [
      "number [10, 9, 8, 7, 6, 5, 4, 3, 2, 1]\n"
     ]
    }
   ],
   "source": [
    "number = [1,2,3,4,5,6,7,8,9,10]\n",
    "number.reverse()\n",
    "print (f'number {number}')"
   ]
  },
  {
   "cell_type": "code",
   "execution_count": null,
   "id": "21ca6613-00f1-4484-9106-2de456a000a5",
   "metadata": {},
   "outputs": [],
   "source": []
  },
  {
   "cell_type": "markdown",
   "id": "eb221049-6f16-4b83-b4f4-f5da456eb5e3",
   "metadata": {},
   "source": [
    "### (Sorting Method) \n",
    "* True will sort in Descending Order,\n",
    "* False will Sort in Ascending Order,\n",
    "* by default the sort is done ascending order"
   ]
  },
  {
   "cell_type": "code",
   "execution_count": 14,
   "id": "0c28433b-4428-4a0b-bbcd-70f8c1a4ebf2",
   "metadata": {},
   "outputs": [
    {
     "name": "stdout",
     "output_type": "stream",
     "text": [
      "list=[10, 9, 8, 7, 6, 5, 4, 3, 2, 1]\n"
     ]
    }
   ],
   "source": [
    "list = [1,2,3,4,5,6,7,8,9,10]\n",
    "list.sort(reverse = True)\n",
    "print (f'list={list}')"
   ]
  },
  {
   "cell_type": "code",
   "execution_count": 15,
   "id": "8e6a4382-1455-4a8b-a53b-1a045dd0dae5",
   "metadata": {},
   "outputs": [
    {
     "name": "stdout",
     "output_type": "stream",
     "text": [
      "list=[1, 2, 3, 4, 5, 6, 7, 8, 9, 10]\n"
     ]
    }
   ],
   "source": [
    "list = [1,2,3,4,5,6,7,8,9,10]\n",
    "list.sort(reverse = False)\n",
    "print (f'list={list}')"
   ]
  },
  {
   "cell_type": "code",
   "execution_count": null,
   "id": "2558dd39-11a6-44d6-9fc9-4a1f41393e7a",
   "metadata": {},
   "outputs": [],
   "source": []
  },
  {
   "cell_type": "code",
   "execution_count": null,
   "id": "dc384a3f-057f-4691-af57-d6cd4a375185",
   "metadata": {},
   "outputs": [],
   "source": []
  }
 ],
 "metadata": {
  "kernelspec": {
   "display_name": "Python 3 (ipykernel)",
   "language": "python",
   "name": "python3"
  },
  "language_info": {
   "codemirror_mode": {
    "name": "ipython",
    "version": 3
   },
   "file_extension": ".py",
   "mimetype": "text/x-python",
   "name": "python",
   "nbconvert_exporter": "python",
   "pygments_lexer": "ipython3",
   "version": "3.12.4"
  }
 },
 "nbformat": 4,
 "nbformat_minor": 5
}
